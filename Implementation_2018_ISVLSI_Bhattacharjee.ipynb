{
 "cells": [
  {
   "cell_type": "code",
   "execution_count": 1,
   "id": "1b9b3229",
   "metadata": {},
   "outputs": [],
   "source": [
    "from qiskit import QuantumCircuit\n",
    "import math\n",
    "import warnings\n",
    "warnings.filterwarnings(action='ignore', category=FutureWarning) # setting ignore as a parameter and further adding category\n",
    "import revlibparser\n",
    "\n",
    "# import sys\n",
    "# import os\n",
    "# sys.path.append(os.path.abspath(\"/Users/anikeshparashar/revlib-to-qiskit\"))\n",
    "# from revlib2qiskit import *"
   ]
  },
  {
   "cell_type": "code",
   "execution_count": 2,
   "id": "b4eb3ff8",
   "metadata": {},
   "outputs": [],
   "source": [
    "# qc = QuantumCircuit(5)\n",
    "\n",
    "# qc.cx(3,0)\n",
    "# qc.h(1)\n",
    "# qc.cx(4,1)\n",
    "# qc.cx(0,2)\n",
    "# qc.cx(1,0)\n",
    "# qc.cx(0,3)\n",
    "# qc.cx(3,2)\n",
    "# qc.cx(3,1)\n",
    "# qc.cx(0,1)\n",
    "# qc.cx(0,4)\n",
    "# qc.cx(4,3)\n",
    "\n",
    "qc = revlibparser.read_circuit(\"./reals/3_17_15.real\")"
   ]
  },
  {
   "cell_type": "code",
   "execution_count": 3,
   "id": "36020311",
   "metadata": {},
   "outputs": [
    {
     "data": {
      "image/png": "[encoded data removed]",
      "text/plain": [
       "<Figure size 854.544x284.278 with 1 Axes>"
      ]
     },
     "execution_count": 3,
     "metadata": {},
     "output_type": "execute_result"
    }
   ],
   "source": [
    "qc.draw(output = \"mpl\")"
   ]
  },
  {
   "cell_type": "code",
   "execution_count": 4,
   "id": "7ac3ebbb",
   "metadata": {},
   "outputs": [
    {
     "data": {
      "text/plain": [
       "3"
      ]
     },
     "execution_count": 4,
     "metadata": {},
     "output_type": "execute_result"
    }
   ],
   "source": [
    "qc.num_qubits"
   ]
  },
  {
   "cell_type": "code",
   "execution_count": 5,
   "id": "2a9508ec",
   "metadata": {},
   "outputs": [],
   "source": [
    "index = {}\n",
    "ind = 0\n",
    "for i in qc.qubits:\n",
    "    index[i] = ind\n",
    "    ind += 1"
   ]
  },
  {
   "cell_type": "code",
   "execution_count": 6,
   "id": "0d5516aa",
   "metadata": {},
   "outputs": [
    {
     "data": {
      "text/plain": [
       "{Qubit(QuantumRegister(1, 'a'), 0): 0,\n",
       " Qubit(QuantumRegister(1, 'b'), 0): 1,\n",
       " Qubit(QuantumRegister(1, 'c'), 0): 2}"
      ]
     },
     "execution_count": 6,
     "metadata": {},
     "output_type": "execute_result"
    }
   ],
   "source": [
    "index"
   ]
  },
  {
   "cell_type": "code",
   "execution_count": 7,
   "id": "ed0faae4",
   "metadata": {},
   "outputs": [
    {
     "data": {
      "text/plain": [
       "[CircuitInstruction(operation=Instruction(name='cx', num_qubits=2, num_clbits=0, params=[]), qubits=(Qubit(QuantumRegister(1, 'a'), 0), Qubit(QuantumRegister(1, 'c'), 0)), clbits=()), CircuitInstruction(operation=Instruction(name='x', num_qubits=1, num_clbits=0, params=[]), qubits=(Qubit(QuantumRegister(1, 'c'), 0),), clbits=()), CircuitInstruction(operation=Instruction(name='cv_dg', num_qubits=2, num_clbits=0, params=[]), qubits=(Qubit(QuantumRegister(1, 'b'), 0), Qubit(QuantumRegister(1, 'a'), 0)), clbits=()), CircuitInstruction(operation=Instruction(name='cx', num_qubits=2, num_clbits=0, params=[]), qubits=(Qubit(QuantumRegister(1, 'c'), 0), Qubit(QuantumRegister(1, 'b'), 0)), clbits=()), CircuitInstruction(operation=Instruction(name='cv', num_qubits=2, num_clbits=0, params=[]), qubits=(Qubit(QuantumRegister(1, 'c'), 0), Qubit(QuantumRegister(1, 'a'), 0)), clbits=()), CircuitInstruction(operation=Instruction(name='cv_dg', num_qubits=2, num_clbits=0, params=[]), qubits=(Qubit(QuantumRegister(1, 'b'), 0), Qubit(QuantumRegister(1, 'c'), 0)), clbits=()), CircuitInstruction(operation=Instruction(name='cv_dg', num_qubits=2, num_clbits=0, params=[]), qubits=(Qubit(QuantumRegister(1, 'b'), 0), Qubit(QuantumRegister(1, 'a'), 0)), clbits=()), CircuitInstruction(operation=Instruction(name='cv_dg', num_qubits=2, num_clbits=0, params=[]), qubits=(Qubit(QuantumRegister(1, 'a'), 0), Qubit(QuantumRegister(1, 'c'), 0)), clbits=()), CircuitInstruction(operation=Instruction(name='cx', num_qubits=2, num_clbits=0, params=[]), qubits=(Qubit(QuantumRegister(1, 'b'), 0), Qubit(QuantumRegister(1, 'a'), 0)), clbits=()), CircuitInstruction(operation=Instruction(name='cv', num_qubits=2, num_clbits=0, params=[]), qubits=(Qubit(QuantumRegister(1, 'a'), 0), Qubit(QuantumRegister(1, 'c'), 0)), clbits=())]"
      ]
     },
     "execution_count": 7,
     "metadata": {},
     "output_type": "execute_result"
    }
   ],
   "source": [
    "qc.data"
   ]
  },
  {
   "cell_type": "code",
   "execution_count": 8,
   "id": "aab85bec",
   "metadata": {},
   "outputs": [
    {
     "name": "stdout",
     "output_type": "stream",
     "text": [
      "\n",
      "gate name: cx\n",
      "qubit(s) acted on: [Qubit(QuantumRegister(1, 'a'), 0), Qubit(QuantumRegister(1, 'c'), 0)]\n",
      "other paramters (such as angles): []\n",
      "\n",
      "gate name: x\n",
      "qubit(s) acted on: [Qubit(QuantumRegister(1, 'c'), 0)]\n",
      "other paramters (such as angles): []\n",
      "\n",
      "gate name: cv_dg\n",
      "qubit(s) acted on: [Qubit(QuantumRegister(1, 'b'), 0), Qubit(QuantumRegister(1, 'a'), 0)]\n",
      "other paramters (such as angles): []\n",
      "\n",
      "gate name: cx\n",
      "qubit(s) acted on: [Qubit(QuantumRegister(1, 'c'), 0), Qubit(QuantumRegister(1, 'b'), 0)]\n",
      "other paramters (such as angles): []\n",
      "\n",
      "gate name: cv\n",
      "qubit(s) acted on: [Qubit(QuantumRegister(1, 'c'), 0), Qubit(QuantumRegister(1, 'a'), 0)]\n",
      "other paramters (such as angles): []\n",
      "\n",
      "gate name: cv_dg\n",
      "qubit(s) acted on: [Qubit(QuantumRegister(1, 'b'), 0), Qubit(QuantumRegister(1, 'c'), 0)]\n",
      "other paramters (such as angles): []\n",
      "\n",
      "gate name: cv_dg\n",
      "qubit(s) acted on: [Qubit(QuantumRegister(1, 'b'), 0), Qubit(QuantumRegister(1, 'a'), 0)]\n",
      "other paramters (such as angles): []\n",
      "\n",
      "gate name: cv_dg\n",
      "qubit(s) acted on: [Qubit(QuantumRegister(1, 'a'), 0), Qubit(QuantumRegister(1, 'c'), 0)]\n",
      "other paramters (such as angles): []\n",
      "\n",
      "gate name: cx\n",
      "qubit(s) acted on: [Qubit(QuantumRegister(1, 'b'), 0), Qubit(QuantumRegister(1, 'a'), 0)]\n",
      "other paramters (such as angles): []\n",
      "\n",
      "gate name: cv\n",
      "qubit(s) acted on: [Qubit(QuantumRegister(1, 'a'), 0), Qubit(QuantumRegister(1, 'c'), 0)]\n",
      "other paramters (such as angles): []\n"
     ]
    }
   ],
   "source": [
    "for gate in qc.data:\n",
    "    print('\\ngate name:', gate[0].name)\n",
    "    print('qubit(s) acted on:', gate[1])\n",
    "    print('other paramters (such as angles):', gate[0].params)"
   ]
  },
  {
   "cell_type": "code",
   "execution_count": 9,
   "id": "b7153f17",
   "metadata": {},
   "outputs": [
    {
     "data": {
      "text/plain": [
       "Qubit(QuantumRegister(1, 'a'), 0)"
      ]
     },
     "execution_count": 9,
     "metadata": {},
     "output_type": "execute_result"
    }
   ],
   "source": [
    "gate[1][0]"
   ]
  },
  {
   "cell_type": "code",
   "execution_count": 10,
   "id": "9bf3b9a1",
   "metadata": {},
   "outputs": [
    {
     "data": {
      "text/plain": [
       "0"
      ]
     },
     "execution_count": 10,
     "metadata": {},
     "output_type": "execute_result"
    }
   ],
   "source": [
    "index[gate[1][0]]"
   ]
  },
  {
   "cell_type": "code",
   "execution_count": 11,
   "id": "fedc6261",
   "metadata": {},
   "outputs": [],
   "source": [
    "costing = [[None for i in range(5)] for j in range(len(qc.qubits))]\n",
    "\n",
    "for i in range(len(qc.qubits)):\n",
    "    costing[i][0] = qc.qubits[i]\n",
    "    costing[i][1] = []\n",
    "    costing[i][3] = []\n",
    "    \n",
    "time = 0\n",
    "for gate in qc.data:\n",
    "    if len(gate[1]) == 1:\n",
    "        continue\n",
    "    time = time+1\n",
    "    costing[index[gate[1][0]]][1].append(time)\n",
    "    costing[index[gate[1][1]]][1].append(time)\n",
    "    if math.fabs(index[gate[1][0]]-index[gate[1][1]])!=1:\n",
    "        costing[index[gate[1][0]]][3].append(time)\n",
    "        costing[index[gate[1][1]]][3].append(time)\n",
    "\n",
    "for i in range(len(qc.qubits)):\n",
    "    costing[i][2] = sum(costing[i][1])\n",
    "    costing[i][4] = sum(costing[i][3])"
   ]
  },
  {
   "cell_type": "code",
   "execution_count": 12,
   "id": "8fd84803",
   "metadata": {},
   "outputs": [
    {
     "data": {
      "text/plain": [
       "[[Qubit(QuantumRegister(1, 'a'), 0),\n",
       "  [1, 2, 4, 6, 7, 8, 9],\n",
       "  37,\n",
       "  [1, 4, 7, 9],\n",
       "  21],\n",
       " [Qubit(QuantumRegister(1, 'b'), 0), [2, 3, 5, 6, 8], 24, [], 0],\n",
       " [Qubit(QuantumRegister(1, 'c'), 0), [1, 3, 4, 5, 7, 9], 29, [1, 4, 7, 9], 21]]"
      ]
     },
     "execution_count": 12,
     "metadata": {},
     "output_type": "execute_result"
    }
   ],
   "source": [
    "costing"
   ]
  },
  {
   "cell_type": "code",
   "execution_count": 13,
   "id": "1060ded1",
   "metadata": {},
   "outputs": [],
   "source": [
    "pref_table =[]\n",
    "for i in costing:\n",
    "    pref_table.append([])\n",
    "    pref_table[-1].extend([i[0],i[2],i[4],i[4]/i[2]])"
   ]
  },
  {
   "cell_type": "code",
   "execution_count": 14,
   "id": "a22fc97a",
   "metadata": {},
   "outputs": [
    {
     "data": {
      "text/plain": [
       "[[Qubit(QuantumRegister(1, 'a'), 0), 37, 21, 0.5675675675675675],\n",
       " [Qubit(QuantumRegister(1, 'b'), 0), 24, 0, 0.0],\n",
       " [Qubit(QuantumRegister(1, 'c'), 0), 29, 21, 0.7241379310344828]]"
      ]
     },
     "execution_count": 14,
     "metadata": {},
     "output_type": "execute_result"
    }
   ],
   "source": [
    "pref_table"
   ]
  },
  {
   "cell_type": "code",
   "execution_count": 15,
   "id": "f6ae74eb",
   "metadata": {},
   "outputs": [],
   "source": [
    "def Sort(List):\n",
    "    List.sort(reverse = True, key=lambda l: l[3])\n",
    "    return List\n",
    "\n",
    "sorted_pref_table = Sort(pref_table)"
   ]
  },
  {
   "cell_type": "code",
   "execution_count": 16,
   "id": "2bcea17a",
   "metadata": {},
   "outputs": [
    {
     "data": {
      "text/plain": [
       "[[Qubit(QuantumRegister(1, 'c'), 0), 29, 21, 0.7241379310344828],\n",
       " [Qubit(QuantumRegister(1, 'a'), 0), 37, 21, 0.5675675675675675],\n",
       " [Qubit(QuantumRegister(1, 'b'), 0), 24, 0, 0.0]]"
      ]
     },
     "execution_count": 16,
     "metadata": {},
     "output_type": "execute_result"
    }
   ],
   "source": [
    "sorted_pref_table"
   ]
  },
  {
   "cell_type": "code",
   "execution_count": 17,
   "id": "5a257365",
   "metadata": {},
   "outputs": [],
   "source": [
    "lattice_size1 = lattice_size2 = math.ceil(math.sqrt(len(index)))"
   ]
  },
  {
   "cell_type": "code",
   "execution_count": 18,
   "id": "9d78f69e",
   "metadata": {},
   "outputs": [
    {
     "data": {
      "text/plain": [
       "(2, 2)"
      ]
     },
     "execution_count": 18,
     "metadata": {},
     "output_type": "execute_result"
    }
   ],
   "source": [
    "lattice_size1, lattice_size2"
   ]
  },
  {
   "cell_type": "code",
   "execution_count": 19,
   "id": "602ad6f9",
   "metadata": {},
   "outputs": [],
   "source": [
    "grid_struct = [[None for i in range(lattice_size2)] for j in range(lattice_size1)]"
   ]
  },
  {
   "cell_type": "code",
   "execution_count": 20,
   "id": "c0185ec0",
   "metadata": {},
   "outputs": [],
   "source": [
    "def count_emp_neigh(grid_struct, i, j, M, N):\n",
    "    count = 0\n",
    "    if i>0 and grid_struct[i-1][j] is None:\n",
    "        count = count+1\n",
    "    if j>0 and grid_struct[i][j-1] is None:\n",
    "        count = count+1\n",
    "    if i<M-1 and grid_struct[i+1][j] is None:\n",
    "        count = count+1\n",
    "    if j<N-1 and grid_struct[i][j+1] is None:\n",
    "        count = count+1\n",
    "    return count"
   ]
  },
  {
   "cell_type": "code",
   "execution_count": 21,
   "id": "2d86fa24",
   "metadata": {},
   "outputs": [],
   "source": [
    "def max_emp_neigh(grid_struct, M, N):\n",
    "    max = 0\n",
    "    loc = [[]]\n",
    "    for i in range(M):\n",
    "        for j in range(N):\n",
    "            if count_emp_neigh(grid_struct, i, j, M, N) > max and grid_struct[i][j] is None:\n",
    "                max = count_emp_neigh(grid_struct, i, j, M, N)\n",
    "                loc=[[i,j]]\n",
    "            elif count_emp_neigh(grid_struct, i, j, M, N) == max and grid_struct[i][j] is None:\n",
    "                loc.append([i,j])\n",
    "    return loc"
   ]
  },
  {
   "cell_type": "code",
   "execution_count": 22,
   "id": "fc1fc177",
   "metadata": {},
   "outputs": [],
   "source": [
    "count = 1\n",
    "prev=[None, None]\n",
    "for q_dat in sorted_pref_table:\n",
    "    if count==1:\n",
    "        grid_struct[int(len(grid_struct)/2)][int(len(grid_struct[0])/2)] = q_dat[0]\n",
    "        prev[0] = int(len(grid_struct)/2)\n",
    "        prev[1] = int(len(grid_struct[0])/2)\n",
    "        count = count+1\n",
    "    else:\n",
    "        loc = max_emp_neigh(grid_struct, lattice_size1, lattice_size2)\n",
    "        if len(loc) == 1:\n",
    "            grid_struct[loc[0][0]][loc[0][1]] = q_dat[0]\n",
    "            prev[0] = loc[0][0]\n",
    "            prev[1] = loc[0][1]\n",
    "        else:\n",
    "            i, j = prev\n",
    "            assigned = False\n",
    "            for a in [-1, 1, -2, 2]:\n",
    "                if 0<=j+a<=lattice_size2-1 and grid_struct[i][j+a] is None:\n",
    "                    grid_struct[i][j+a] = q_dat[0]\n",
    "                    assigned = True\n",
    "                    break\n",
    "                if 0<=i+a<=lattice_size1-1 and grid_struct[i+a][j] is None:\n",
    "                    grid_struct[i+a][j] = q_dat[0]\n",
    "                    assigned = True\n",
    "                    break\n",
    "            if not assigned:    \n",
    "                for a in range(0, lattice_size1):\n",
    "                    for b in range(0, lattice_size2):\n",
    "                        if 0<=i+a<=lattice_size1-1 and 0<=j+b<=lattice_size2-1 and grid_struct[i+a][j+b] is None:\n",
    "                            grid_struct[i+a][j+b] = q_dat[0]\n",
    "                            assigned = True\n",
    "                            break\n",
    "                        if 0<=i+a<=lattice_size1-1 and 0<=j-b<=lattice_size2-1 and grid_struct[i+a][j-b] is None:\n",
    "                            grid_struct[i+a][j-b] = q_dat[0]\n",
    "                            assigned = True\n",
    "                            break\n",
    "                        if 0<=i-a<=lattice_size1-1 and 0<=j+b<=lattice_size2-1 and grid_struct[i-a][j+b] is None:\n",
    "                            grid_struct[i-a][j+b] = q_dat[0]\n",
    "                            assigned = True\n",
    "                            break\n",
    "                        if 0<=i-a<=lattice_size1-1 and 0<=j-b<=lattice_size2-1 and grid_struct[i-a][j-b] is None:\n",
    "                            grid_struct[i-a][j-b] = q_dat[0]\n",
    "                            assigned = True\n",
    "                            break\n",
    "                    if (assigned):\n",
    "                        break"
   ]
  },
  {
   "cell_type": "code",
   "execution_count": 23,
   "id": "08ade0c4",
   "metadata": {
    "scrolled": true
   },
   "outputs": [
    {
     "data": {
      "text/plain": [
       "[[Qubit(QuantumRegister(1, 'a'), 0), Qubit(QuantumRegister(1, 'b'), 0)],\n",
       " [None, Qubit(QuantumRegister(1, 'c'), 0)]]"
      ]
     },
     "execution_count": 23,
     "metadata": {},
     "output_type": "execute_result"
    }
   ],
   "source": [
    "grid_struct"
   ]
  },
  {
   "cell_type": "code",
   "execution_count": 24,
   "id": "68a526bb",
   "metadata": {},
   "outputs": [],
   "source": [
    "import copy\n",
    "intial_grid_struct = copy.deepcopy(grid_struct)"
   ]
  },
  {
   "cell_type": "code",
   "execution_count": 25,
   "id": "59a76a49",
   "metadata": {},
   "outputs": [],
   "source": [
    "dict = {}\n",
    "for i in range(lattice_size1):\n",
    "    for j in range(lattice_size2):\n",
    "        if grid_struct[i][j] is not None:\n",
    "            dict[grid_struct[i][j]] = [i, j]"
   ]
  },
  {
   "cell_type": "code",
   "execution_count": 26,
   "id": "f955e313",
   "metadata": {},
   "outputs": [
    {
     "data": {
      "text/plain": [
       "{Qubit(QuantumRegister(1, 'a'), 0): [0, 0],\n",
       " Qubit(QuantumRegister(1, 'b'), 0): [0, 1],\n",
       " Qubit(QuantumRegister(1, 'c'), 0): [1, 1]}"
      ]
     },
     "execution_count": 26,
     "metadata": {},
     "output_type": "execute_result"
    }
   ],
   "source": [
    "dict"
   ]
  },
  {
   "cell_type": "code",
   "execution_count": 27,
   "id": "b8313f85",
   "metadata": {},
   "outputs": [],
   "source": [
    "def print_gs(grid_struct):\n",
    "    for i in range(len(grid_struct)):\n",
    "        for j in range(len(grid_struct[0])):\n",
    "            if grid_struct[i][j] is None:\n",
    "                print(' ', end=' ')\n",
    "            else:\n",
    "                print(index[grid_struct[i][j]], end=' ')\n",
    "        print()"
   ]
  },
  {
   "cell_type": "code",
   "execution_count": 28,
   "id": "c3eabb07",
   "metadata": {},
   "outputs": [],
   "source": [
    "optimized_qc = QuantumCircuit(qc.num_qubits)"
   ]
  },
  {
   "cell_type": "code",
   "execution_count": 29,
   "id": "d0472722",
   "metadata": {},
   "outputs": [],
   "source": [
    "import time"
   ]
  },
  {
   "cell_type": "code",
   "execution_count": 30,
   "id": "df897c38",
   "metadata": {
    "scrolled": false
   },
   "outputs": [
    {
     "name": "stdout",
     "output_type": "stream",
     "text": [
      "0 1 \n",
      "  2 \n",
      "\n",
      "0\n",
      "-1\n",
      "swap\n",
      "0 2 \n",
      "  1 \n",
      "\n",
      "Gate achieved:  cx 0 2\n",
      "\n",
      "no swap\n",
      "0 2 \n",
      "  1 \n",
      "\n",
      "Gate achieved:  x 2\n",
      "\n",
      "0\n",
      "1\n",
      "swap\n",
      "0 1 \n",
      "  2 \n",
      "\n",
      "Gate achieved:  cv_dg 1 0\n",
      "\n",
      "no swap\n",
      "0 1 \n",
      "  2 \n",
      "\n",
      "Gate achieved:  cx 2 1\n",
      "\n",
      "0\n",
      "1\n",
      "swap\n",
      "0 2 \n",
      "  1 \n",
      "\n",
      "Gate achieved:  cv 2 0\n",
      "\n",
      "no swap\n",
      "0 2 \n",
      "  1 \n",
      "\n",
      "Gate achieved:  cv_dg 1 2\n",
      "\n",
      "0\n",
      "1\n",
      "swap\n",
      "0 1 \n",
      "  2 \n",
      "\n",
      "Gate achieved:  cv_dg 1 0\n",
      "\n",
      "0\n",
      "-1\n",
      "swap\n",
      "0 2 \n",
      "  1 \n",
      "\n",
      "Gate achieved:  cv_dg 0 2\n",
      "\n",
      "0\n",
      "1\n",
      "swap\n",
      "0 1 \n",
      "  2 \n",
      "\n",
      "Gate achieved:  cx 1 0\n",
      "\n",
      "0\n",
      "-1\n",
      "swap\n",
      "0 2 \n",
      "  1 \n",
      "\n",
      "Gate achieved:  cv 0 2\n",
      "\n"
     ]
    }
   ],
   "source": [
    "print_gs(grid_struct)\n",
    "swap_count = 0\n",
    "print()\n",
    "for gate in qc.data:\n",
    "    if len(gate[1]) == 1:\n",
    "        print(\"no swap\")\n",
    "        print_gs(grid_struct)\n",
    "        print()\n",
    "        print(\"Gate achieved: \",gate[0].name, index[gate[1][0]])\n",
    "        print()\n",
    "        continue\n",
    "    l1_x, l1_y = dict[gate[1][0]]\n",
    "    l2_x, l2_y = dict[gate[1][1]]\n",
    "    \n",
    "    if ((l1_x == l2_x) and (math.fabs(l1_y - l2_y) == 1)) or ((l1_y == l2_y) and (math.fabs(l1_x - l2_x) == 1)):\n",
    "        print(\"no swap\")\n",
    "        print_gs(grid_struct)\n",
    "        print()\n",
    "        print(\"Gate achieved: \",gate[0].name, index[gate[1][0]], index[gate[1][1]])\n",
    "        print()\n",
    "    else:\n",
    "        dx = l1_x - l2_x\n",
    "        dy = l1_y - l2_y\n",
    "        while (math.fabs(dx) + math.fabs(dy) != 1):\n",
    "            if dx > 0 and grid_struct[l1_x - 1][l1_y] is not None:\n",
    "                grid_struct[l1_x - 1][l1_y], grid_struct[l1_x][l1_y] = grid_struct[l1_x][l1_y], grid_struct[l1_x - 1][l1_y]\n",
    "                dict[grid_struct[l1_x - 1][l1_y]] = [l1_x - 1, l1_y]\n",
    "                dict[grid_struct[l1_x][l1_y]] = [l1_x, l1_y]\n",
    "            elif dx > 0 and  grid_struct[l2_x + 1][l2_y] is not None:\n",
    "                grid_struct[l2_x + 1][l2_y], grid_struct[l2_x][l2_y] = grid_struct[l2_x][l2_y], grid_struct[l2_x + 1][l2_y]\n",
    "                dict[grid_struct[l2_x + 1][l2_y]] = [l2_x + 1, l2_y]\n",
    "                dict[grid_struct[l2_x][l2_y]] = [l2_x, l2_y]\n",
    "            elif dx < 0 and grid_struct[l1_x + 1][l1_y] is not None:\n",
    "                grid_struct[l1_x + 1][l1_y], grid_struct[l1_x][l1_y] = grid_struct[l1_x][l1_y], grid_struct[l1_x + 1][l1_y]\n",
    "                dict[grid_struct[l1_x + 1][l1_y]] = [l1_x + 1, l1_y]\n",
    "                dict[grid_struct[l1_x][l1_y]] = [l1_x, l1_y]\n",
    "            elif dx < 0 and  grid_struct[l2_x - 1][l2_y] is not None:\n",
    "                grid_struct[l2_x - 1][l2_y], grid_struct[l2_x][l2_y] = grid_struct[l2_x][l2_y], grid_struct[l2_x - 1][l2_y]\n",
    "                dict[grid_struct[l2_x - 1][l2_y]] = [l2_x - 1, l2_y]\n",
    "                dict[grid_struct[l2_x][l2_y]] = [l2_x, l2_y]\n",
    "            elif dy > 0 and grid_struct[l1_x][l1_y - 1] is not None:\n",
    "                grid_struct[l1_x][l1_y - 1], grid_struct[l1_x][l1_y] = grid_struct[l1_x][l1_y], grid_struct[l1_x][l1_y - 1]\n",
    "                dict[grid_struct[l1_x][l1_y - 1]] = [l1_x, l1_y - 1]\n",
    "                dict[grid_struct[l1_x][l1_y]] = [l1_x, l1_y]\n",
    "            elif dy > 0 and  grid_struct[l2_x][l2_y + 1] is not None:\n",
    "                grid_struct[l2_x][l2_y + 1], grid_struct[l2_x][l2_y] = grid_struct[l2_x][l2_y], grid_struct[l2_x][l2_y + 1]\n",
    "                dict[grid_struct[l2_x][l2_y + 1]] = [l2_x, l2_y + 1]\n",
    "                dict[grid_struct[l2_x][l2_y]] = [l2_x, l2_y]\n",
    "            elif dy < 0 and grid_struct[l1_x][l1_y + 1] is not None:\n",
    "                grid_struct[l1_x][l1_y + 1], grid_struct[l1_x][l1_y] = grid_struct[l1_x][l1_y], grid_struct[l1_x][l1_y + 1]\n",
    "                dict[grid_struct[l1_x][l1_y + 1]] = [l1_x, l1_y + 1]\n",
    "                dict[grid_struct[l1_x][l1_y]] = [l1_x, l1_y]\n",
    "            elif dy < 0 and  grid_struct[l2_x][l2_y - 1] is not None:\n",
    "                grid_struct[l2_x][l2_y - 1], grid_struct[l2_x][l2_y] = grid_struct[l2_x][l2_y], grid_struct[l2_x][l2_y - 1]\n",
    "                dict[grid_struct[l2_x][l2_y - 1]] = [l2_x, l2_y - 1]\n",
    "                dict[grid_struct[l2_x][l2_y]] = [l2_x, l2_y]\n",
    "            l1_x, l1_y = dict[gate[1][0]]\n",
    "            l2_x, l2_y = dict[gate[1][1]]\n",
    "            dx = l1_x - l2_x\n",
    "            dy = l1_y - l2_y\n",
    "            print(dx)\n",
    "            print(dy)\n",
    "#             print(\"reqd\", gate[0].name, index[gate[1][0]], index[gate[1][1]])\n",
    "            print(\"swap\")\n",
    "            swap_count += 1\n",
    "            print_gs(grid_struct)\n",
    "            print()\n",
    "#             time.sleep(1)\n",
    "        print(\"Gate achieved: \",gate[0].name, index[gate[1][0]], index[gate[1][1]])\n",
    "        print()"
   ]
  },
  {
   "cell_type": "code",
   "execution_count": 31,
   "id": "6949a1df",
   "metadata": {},
   "outputs": [
    {
     "name": "stdout",
     "output_type": "stream",
     "text": [
      "7\n"
     ]
    }
   ],
   "source": [
    "print(swap_count)"
   ]
  },
  {
   "cell_type": "code",
   "execution_count": 32,
   "id": "033693ce",
   "metadata": {},
   "outputs": [],
   "source": [
    "import tabulate"
   ]
  },
  {
   "cell_type": "code",
   "execution_count": 33,
   "id": "1316541e",
   "metadata": {},
   "outputs": [
    {
     "name": "stdout",
     "output_type": "stream",
     "text": [
      "╒═══════════════════════════════════╤═══════════════════════╤════════════════════╤═════════════════╤═════════════════╕\n",
      "│ Qubits                            │ Time Instants         │   Total Interation │ Time Instants   │   Total Costing │\n",
      "╞═══════════════════════════════════╪═══════════════════════╪════════════════════╪═════════════════╪═════════════════╡\n",
      "│ Qubit(QuantumRegister(1, 'a'), 0) │ [1, 2, 4, 6, 7, 8, 9] │                 37 │ [1, 4, 7, 9]    │              21 │\n",
      "├───────────────────────────────────┼───────────────────────┼────────────────────┼─────────────────┼─────────────────┤\n",
      "│ Qubit(QuantumRegister(1, 'b'), 0) │ [2, 3, 5, 6, 8]       │                 24 │ []              │               0 │\n",
      "├───────────────────────────────────┼───────────────────────┼────────────────────┼─────────────────┼─────────────────┤\n",
      "│ Qubit(QuantumRegister(1, 'c'), 0) │ [1, 3, 4, 5, 7, 9]    │                 29 │ [1, 4, 7, 9]    │              21 │\n",
      "╘═══════════════════════════════════╧═══════════════════════╧════════════════════╧═════════════════╧═════════════════╛\n"
     ]
    }
   ],
   "source": [
    "print(tabulate.tabulate([[\"Qubits\", \"Time Instants\", \"Total Interation\", \"Time Instants\", \"Total Costing\"]]+costing,headers='firstrow',tablefmt='fancy_grid'))"
   ]
  },
  {
   "cell_type": "code",
   "execution_count": 34,
   "id": "a78dcc5d",
   "metadata": {},
   "outputs": [
    {
     "name": "stdout",
     "output_type": "stream",
     "text": [
      "╒═══════════════════════════════════╤════════════════════╤═════════════════╤════════════════════╕\n",
      "│ Qubits                            │   Total Interation │   Total Costing │   Preference Index │\n",
      "╞═══════════════════════════════════╪════════════════════╪═════════════════╪════════════════════╡\n",
      "│ Qubit(QuantumRegister(1, 'c'), 0) │                 29 │              21 │           0.724138 │\n",
      "├───────────────────────────────────┼────────────────────┼─────────────────┼────────────────────┤\n",
      "│ Qubit(QuantumRegister(1, 'a'), 0) │                 37 │              21 │           0.567568 │\n",
      "├───────────────────────────────────┼────────────────────┼─────────────────┼────────────────────┤\n",
      "│ Qubit(QuantumRegister(1, 'b'), 0) │                 24 │               0 │           0        │\n",
      "╘═══════════════════════════════════╧════════════════════╧═════════════════╧════════════════════╛\n"
     ]
    }
   ],
   "source": [
    "print(tabulate.tabulate([[\"Qubits\", \"Total Interation\", \"Total Costing\", \"Preference Index\"]]+pref_table,headers='firstrow',tablefmt='fancy_grid'))"
   ]
  },
  {
   "cell_type": "code",
   "execution_count": 35,
   "id": "27d3e60f",
   "metadata": {},
   "outputs": [
    {
     "name": "stdout",
     "output_type": "stream",
     "text": [
      "╒═══════════════════════════════════╤════════════════════╤═════════════════╤════════════════════╕\n",
      "│ Qubits                            │   Total Interation │   Total Costing │   Preference Index │\n",
      "╞═══════════════════════════════════╪════════════════════╪═════════════════╪════════════════════╡\n",
      "│ Qubit(QuantumRegister(1, 'c'), 0) │                 29 │              21 │           0.724138 │\n",
      "├───────────────────────────────────┼────────────────────┼─────────────────┼────────────────────┤\n",
      "│ Qubit(QuantumRegister(1, 'a'), 0) │                 37 │              21 │           0.567568 │\n",
      "├───────────────────────────────────┼────────────────────┼─────────────────┼────────────────────┤\n",
      "│ Qubit(QuantumRegister(1, 'b'), 0) │                 24 │               0 │           0        │\n",
      "╘═══════════════════════════════════╧════════════════════╧═════════════════╧════════════════════╛\n"
     ]
    }
   ],
   "source": [
    "print(tabulate.tabulate([[\"Qubits\", \"Total Interation\", \"Total Costing\", \"Preference Index\"]]+sorted_pref_table,headers='firstrow',tablefmt='fancy_grid'))"
   ]
  },
  {
   "cell_type": "code",
   "execution_count": 36,
   "id": "b6b63d47",
   "metadata": {
    "scrolled": true
   },
   "outputs": [
    {
     "name": "stdout",
     "output_type": "stream",
     "text": [
      "╒═══════════════════════════════════╤═══════════════════════════════════╕\n",
      "│ Qubit(QuantumRegister(1, 'a'), 0) │ Qubit(QuantumRegister(1, 'b'), 0) │\n",
      "├───────────────────────────────────┼───────────────────────────────────┤\n",
      "│                                   │ Qubit(QuantumRegister(1, 'c'), 0) │\n",
      "╘═══════════════════════════════════╧═══════════════════════════════════╛\n"
     ]
    }
   ],
   "source": [
    "print(tabulate.tabulate(intial_grid_struct,tablefmt='fancy_grid'))"
   ]
  },
  {
   "cell_type": "code",
   "execution_count": null,
   "id": "e36e1143",
   "metadata": {},
   "outputs": [],
   "source": []
  },
  {
   "cell_type": "code",
   "execution_count": null,
   "id": "96266bce",
   "metadata": {},
   "outputs": [],
   "source": []
  }
 ],
 "metadata": {
  "kernelspec": {
   "display_name": "Python 3 (ipykernel)",
   "language": "python",
   "name": "python3"
  },
  "language_info": {
   "codemirror_mode": {
    "name": "ipython",
    "version": 3
   },
   "file_extension": ".py",
   "mimetype": "text/x-python",
   "name": "python",
   "nbconvert_exporter": "python",
   "pygments_lexer": "ipython3",
   "version": "3.9.13"
  }
 },
 "nbformat": 4,
 "nbformat_minor": 5
}
