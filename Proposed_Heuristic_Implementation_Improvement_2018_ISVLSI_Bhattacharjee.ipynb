{
 "cells": [
  {
   "cell_type": "code",
   "execution_count": 1,
   "id": "1b9b3229",
   "metadata": {},
   "outputs": [],
   "source": [
    "from qiskit import QuantumCircuit\n",
    "import math\n",
    "import warnings\n",
    "warnings.filterwarnings(action='ignore', category=FutureWarning) # setting ignore as a parameter and further adding category\n",
    "import revlibparser\n",
    "# import sys\n",
    "# import os\n",
    "# sys.path.append(os.path.abspath(\"/Users/anikeshparashar/revlib-to-qiskit\"))\n",
    "# from revlib2qiskit import *"
   ]
  },
  {
   "cell_type": "code",
   "execution_count": 2,
   "id": "b4eb3ff8",
   "metadata": {},
   "outputs": [
    {
     "data": {
      "text/plain": [
       "<qiskit.circuit.instructionset.InstructionSet at 0x7f77b8293f40>"
      ]
     },
     "execution_count": 2,
     "metadata": {},
     "output_type": "execute_result"
    }
   ],
   "source": [
    "qc = QuantumCircuit(5)\n",
    "\n",
    "qc.cx(3,0)\n",
    "qc.cx(4,1)\n",
    "qc.cx(0,2)\n",
    "qc.cx(1,0)\n",
    "qc.cx(0,3)\n",
    "qc.cx(3,2)\n",
    "qc.cx(3,1)\n",
    "qc.cx(0,1)\n",
    "qc.cx(0,4)\n",
    "qc.cx(4,3)\n",
    "\n",
    "# qc = revlibparser.read_circuit(\"./reals/3_17_15.real\")"
   ]
  },
  {
   "cell_type": "code",
   "execution_count": 3,
   "id": "36020311",
   "metadata": {
    "scrolled": false
   },
   "outputs": [
    {
     "data": {
      "image/png": "[encoded data removed]",
      "text/plain": [
       "<Figure size 956.385x451.5 with 1 Axes>"
      ]
     },
     "execution_count": 3,
     "metadata": {},
     "output_type": "execute_result"
    }
   ],
   "source": [
    "qc.draw(output = \"mpl\")"
   ]
  },
  {
   "cell_type": "code",
   "execution_count": 4,
   "id": "fab9127a",
   "metadata": {},
   "outputs": [
    {
     "data": {
      "text/plain": [
       "5"
      ]
     },
     "execution_count": 4,
     "metadata": {},
     "output_type": "execute_result"
    }
   ],
   "source": [
    "qc.num_qubits"
   ]
  },
  {
   "cell_type": "code",
   "execution_count": 5,
   "id": "35c4ffeb",
   "metadata": {},
   "outputs": [],
   "source": [
    "index = {}\n",
    "ind = 0\n",
    "for i in qc.qubits:\n",
    "    index[i] = ind\n",
    "    ind += 1"
   ]
  },
  {
   "cell_type": "code",
   "execution_count": 6,
   "id": "ba50dd06",
   "metadata": {},
   "outputs": [
    {
     "data": {
      "text/plain": [
       "{Qubit(QuantumRegister(5, 'q'), 0): 0,\n",
       " Qubit(QuantumRegister(5, 'q'), 1): 1,\n",
       " Qubit(QuantumRegister(5, 'q'), 2): 2,\n",
       " Qubit(QuantumRegister(5, 'q'), 3): 3,\n",
       " Qubit(QuantumRegister(5, 'q'), 4): 4}"
      ]
     },
     "execution_count": 6,
     "metadata": {},
     "output_type": "execute_result"
    }
   ],
   "source": [
    "index"
   ]
  },
  {
   "cell_type": "code",
   "execution_count": 7,
   "id": "ed0faae4",
   "metadata": {},
   "outputs": [
    {
     "data": {
      "text/plain": [
       "[CircuitInstruction(operation=Instruction(name='cx', num_qubits=2, num_clbits=0, params=[]), qubits=(Qubit(QuantumRegister(5, 'q'), 3), Qubit(QuantumRegister(5, 'q'), 0)), clbits=()), CircuitInstruction(operation=Instruction(name='cx', num_qubits=2, num_clbits=0, params=[]), qubits=(Qubit(QuantumRegister(5, 'q'), 4), Qubit(QuantumRegister(5, 'q'), 1)), clbits=()), CircuitInstruction(operation=Instruction(name='cx', num_qubits=2, num_clbits=0, params=[]), qubits=(Qubit(QuantumRegister(5, 'q'), 0), Qubit(QuantumRegister(5, 'q'), 2)), clbits=()), CircuitInstruction(operation=Instruction(name='cx', num_qubits=2, num_clbits=0, params=[]), qubits=(Qubit(QuantumRegister(5, 'q'), 1), Qubit(QuantumRegister(5, 'q'), 0)), clbits=()), CircuitInstruction(operation=Instruction(name='cx', num_qubits=2, num_clbits=0, params=[]), qubits=(Qubit(QuantumRegister(5, 'q'), 0), Qubit(QuantumRegister(5, 'q'), 3)), clbits=()), CircuitInstruction(operation=Instruction(name='cx', num_qubits=2, num_clbits=0, params=[]), qubits=(Qubit(QuantumRegister(5, 'q'), 3), Qubit(QuantumRegister(5, 'q'), 2)), clbits=()), CircuitInstruction(operation=Instruction(name='cx', num_qubits=2, num_clbits=0, params=[]), qubits=(Qubit(QuantumRegister(5, 'q'), 3), Qubit(QuantumRegister(5, 'q'), 1)), clbits=()), CircuitInstruction(operation=Instruction(name='cx', num_qubits=2, num_clbits=0, params=[]), qubits=(Qubit(QuantumRegister(5, 'q'), 0), Qubit(QuantumRegister(5, 'q'), 1)), clbits=()), CircuitInstruction(operation=Instruction(name='cx', num_qubits=2, num_clbits=0, params=[]), qubits=(Qubit(QuantumRegister(5, 'q'), 0), Qubit(QuantumRegister(5, 'q'), 4)), clbits=()), CircuitInstruction(operation=Instruction(name='cx', num_qubits=2, num_clbits=0, params=[]), qubits=(Qubit(QuantumRegister(5, 'q'), 4), Qubit(QuantumRegister(5, 'q'), 3)), clbits=())]"
      ]
     },
     "execution_count": 7,
     "metadata": {},
     "output_type": "execute_result"
    }
   ],
   "source": [
    "qc.data"
   ]
  },
  {
   "cell_type": "code",
   "execution_count": 8,
   "id": "aab85bec",
   "metadata": {},
   "outputs": [
    {
     "name": "stdout",
     "output_type": "stream",
     "text": [
      "\n",
      "gate name: cx\n",
      "qubit(s) acted on: [Qubit(QuantumRegister(5, 'q'), 3), Qubit(QuantumRegister(5, 'q'), 0)]\n",
      "other paramters (such as angles): []\n",
      "\n",
      "gate name: cx\n",
      "qubit(s) acted on: [Qubit(QuantumRegister(5, 'q'), 4), Qubit(QuantumRegister(5, 'q'), 1)]\n",
      "other paramters (such as angles): []\n",
      "\n",
      "gate name: cx\n",
      "qubit(s) acted on: [Qubit(QuantumRegister(5, 'q'), 0), Qubit(QuantumRegister(5, 'q'), 2)]\n",
      "other paramters (such as angles): []\n",
      "\n",
      "gate name: cx\n",
      "qubit(s) acted on: [Qubit(QuantumRegister(5, 'q'), 1), Qubit(QuantumRegister(5, 'q'), 0)]\n",
      "other paramters (such as angles): []\n",
      "\n",
      "gate name: cx\n",
      "qubit(s) acted on: [Qubit(QuantumRegister(5, 'q'), 0), Qubit(QuantumRegister(5, 'q'), 3)]\n",
      "other paramters (such as angles): []\n",
      "\n",
      "gate name: cx\n",
      "qubit(s) acted on: [Qubit(QuantumRegister(5, 'q'), 3), Qubit(QuantumRegister(5, 'q'), 2)]\n",
      "other paramters (such as angles): []\n",
      "\n",
      "gate name: cx\n",
      "qubit(s) acted on: [Qubit(QuantumRegister(5, 'q'), 3), Qubit(QuantumRegister(5, 'q'), 1)]\n",
      "other paramters (such as angles): []\n",
      "\n",
      "gate name: cx\n",
      "qubit(s) acted on: [Qubit(QuantumRegister(5, 'q'), 0), Qubit(QuantumRegister(5, 'q'), 1)]\n",
      "other paramters (such as angles): []\n",
      "\n",
      "gate name: cx\n",
      "qubit(s) acted on: [Qubit(QuantumRegister(5, 'q'), 0), Qubit(QuantumRegister(5, 'q'), 4)]\n",
      "other paramters (such as angles): []\n",
      "\n",
      "gate name: cx\n",
      "qubit(s) acted on: [Qubit(QuantumRegister(5, 'q'), 4), Qubit(QuantumRegister(5, 'q'), 3)]\n",
      "other paramters (such as angles): []\n"
     ]
    }
   ],
   "source": [
    "for gate in qc.data:\n",
    "    print('\\ngate name:', gate[0].name)\n",
    "    print('qubit(s) acted on:', gate[1])\n",
    "    print('other paramters (such as angles):', gate[0].params)"
   ]
  },
  {
   "cell_type": "code",
   "execution_count": 9,
   "id": "b7153f17",
   "metadata": {},
   "outputs": [
    {
     "data": {
      "text/plain": [
       "Qubit(QuantumRegister(5, 'q'), 4)"
      ]
     },
     "execution_count": 9,
     "metadata": {},
     "output_type": "execute_result"
    }
   ],
   "source": [
    "gate[1][0]"
   ]
  },
  {
   "cell_type": "code",
   "execution_count": 10,
   "id": "fedc6261",
   "metadata": {},
   "outputs": [],
   "source": [
    "costing = [[None for i in range(5)] for j in range(len(qc.qubits))]\n",
    "\n",
    "for i in range(len(qc.qubits)):\n",
    "    costing[i][0] = qc.qubits[i]\n",
    "    costing[i][1] = []\n",
    "    costing[i][3] = []\n",
    "    \n",
    "time = 0\n",
    "for gate in qc.data:\n",
    "    if len(gate[1]) == 1:\n",
    "        continue\n",
    "    time = time+1\n",
    "    costing[index[gate[1][0]]][1].append(time)\n",
    "    costing[index[gate[1][1]]][1].append(time)\n",
    "    if math.fabs(index[gate[1][0]]-index[gate[1][1]])!=1:\n",
    "        costing[index[gate[1][0]]][3].append(time)\n",
    "        costing[index[gate[1][1]]][3].append(time)\n",
    "\n",
    "for i in range(len(qc.qubits)):\n",
    "    costing[i][2] = sum(costing[i][1])\n",
    "    costing[i][4] = sum(costing[i][3])"
   ]
  },
  {
   "cell_type": "code",
   "execution_count": 11,
   "id": "8fd84803",
   "metadata": {},
   "outputs": [
    {
     "data": {
      "text/plain": [
       "[[Qubit(QuantumRegister(5, 'q'), 0), [1, 3, 4, 5, 8, 9], 30, [1, 3, 5, 9], 18],\n",
       " [Qubit(QuantumRegister(5, 'q'), 1), [2, 4, 7, 8], 21, [2, 7], 9],\n",
       " [Qubit(QuantumRegister(5, 'q'), 2), [3, 6], 9, [3], 3],\n",
       " [Qubit(QuantumRegister(5, 'q'), 3), [1, 5, 6, 7, 10], 29, [1, 5, 7], 13],\n",
       " [Qubit(QuantumRegister(5, 'q'), 4), [2, 9, 10], 21, [2, 9], 11]]"
      ]
     },
     "execution_count": 11,
     "metadata": {},
     "output_type": "execute_result"
    }
   ],
   "source": [
    "costing"
   ]
  },
  {
   "cell_type": "code",
   "execution_count": 12,
   "id": "1060ded1",
   "metadata": {},
   "outputs": [],
   "source": [
    "pref_table =[]\n",
    "for i in costing:\n",
    "    pref_table.append([])\n",
    "    pref_table[-1].extend([i[0],i[2],i[4],i[4]/i[2]])"
   ]
  },
  {
   "cell_type": "code",
   "execution_count": 13,
   "id": "a22fc97a",
   "metadata": {},
   "outputs": [
    {
     "data": {
      "text/plain": [
       "[[Qubit(QuantumRegister(5, 'q'), 0), 30, 18, 0.6],\n",
       " [Qubit(QuantumRegister(5, 'q'), 1), 21, 9, 0.42857142857142855],\n",
       " [Qubit(QuantumRegister(5, 'q'), 2), 9, 3, 0.3333333333333333],\n",
       " [Qubit(QuantumRegister(5, 'q'), 3), 29, 13, 0.4482758620689655],\n",
       " [Qubit(QuantumRegister(5, 'q'), 4), 21, 11, 0.5238095238095238]]"
      ]
     },
     "execution_count": 13,
     "metadata": {},
     "output_type": "execute_result"
    }
   ],
   "source": [
    "pref_table"
   ]
  },
  {
   "cell_type": "code",
   "execution_count": 14,
   "id": "f6ae74eb",
   "metadata": {},
   "outputs": [],
   "source": [
    "def Sort(List):\n",
    "    List.sort(reverse = True, key=lambda l: l[3])\n",
    "    return List\n",
    "\n",
    "sorted_pref_table = Sort(pref_table)"
   ]
  },
  {
   "cell_type": "code",
   "execution_count": 15,
   "id": "2bcea17a",
   "metadata": {},
   "outputs": [
    {
     "data": {
      "text/plain": [
       "[[Qubit(QuantumRegister(5, 'q'), 0), 30, 18, 0.6],\n",
       " [Qubit(QuantumRegister(5, 'q'), 4), 21, 11, 0.5238095238095238],\n",
       " [Qubit(QuantumRegister(5, 'q'), 3), 29, 13, 0.4482758620689655],\n",
       " [Qubit(QuantumRegister(5, 'q'), 1), 21, 9, 0.42857142857142855],\n",
       " [Qubit(QuantumRegister(5, 'q'), 2), 9, 3, 0.3333333333333333]]"
      ]
     },
     "execution_count": 15,
     "metadata": {},
     "output_type": "execute_result"
    }
   ],
   "source": [
    "sorted_pref_table"
   ]
  },
  {
   "cell_type": "code",
   "execution_count": 16,
   "id": "650ff758",
   "metadata": {},
   "outputs": [],
   "source": [
    "# lattice_size1 = lattice_size2 = math.ceil(math.sqrt(len(index)))\n",
    "lattice_size1 = lattice_size2 = 3"
   ]
  },
  {
   "cell_type": "code",
   "execution_count": 17,
   "id": "57c65244",
   "metadata": {},
   "outputs": [
    {
     "data": {
      "text/plain": [
       "(3, 3)"
      ]
     },
     "execution_count": 17,
     "metadata": {},
     "output_type": "execute_result"
    }
   ],
   "source": [
    "lattice_size1, lattice_size2"
   ]
  },
  {
   "cell_type": "code",
   "execution_count": 18,
   "id": "602ad6f9",
   "metadata": {},
   "outputs": [],
   "source": [
    "grid_struct = [[None for i in range(lattice_size2)] for j in range(lattice_size1)]"
   ]
  },
  {
   "cell_type": "code",
   "execution_count": 19,
   "id": "3372e285",
   "metadata": {},
   "outputs": [],
   "source": [
    "grid_struct[1][0] = 'X'"
   ]
  },
  {
   "cell_type": "code",
   "execution_count": 20,
   "id": "938d8344",
   "metadata": {},
   "outputs": [],
   "source": [
    "grid_struct[2][0] = 'X'"
   ]
  },
  {
   "cell_type": "code",
   "execution_count": 21,
   "id": "a6dc7985",
   "metadata": {},
   "outputs": [],
   "source": [
    "grid_struct[1][2] = 'X'"
   ]
  },
  {
   "cell_type": "code",
   "execution_count": 22,
   "id": "f54adff1",
   "metadata": {},
   "outputs": [],
   "source": [
    "grid_struct[2][2] = 'X'"
   ]
  },
  {
   "cell_type": "code",
   "execution_count": 23,
   "id": "c0185ec0",
   "metadata": {},
   "outputs": [],
   "source": [
    "def count_emp_neigh(grid_struct, i, j, M, N):\n",
    "    count = 0\n",
    "    if i>0 and grid_struct[i-1][j] is None:\n",
    "        count = count+1\n",
    "    if j>0 and grid_struct[i][j-1] is None:\n",
    "        count = count+1\n",
    "    if i<M-1 and grid_struct[i+1][j] is None:\n",
    "        count = count+1\n",
    "    if j<N-1 and grid_struct[i][j+1] is None:\n",
    "        count = count+1\n",
    "    return count"
   ]
  },
  {
   "cell_type": "code",
   "execution_count": 24,
   "id": "2d86fa24",
   "metadata": {},
   "outputs": [],
   "source": [
    "def max_emp_neigh(grid_struct, M, N):\n",
    "    max = 0\n",
    "    loc = [[]]\n",
    "    for i in range(M):\n",
    "        for j in range(N):\n",
    "            if count_emp_neigh(grid_struct, i, j, M, N) > max and grid_struct[i][j] is None:\n",
    "                max = count_emp_neigh(grid_struct, i, j, M, N)\n",
    "                loc=[[i,j]]\n",
    "            elif count_emp_neigh(grid_struct, i, j, M, N) == max and grid_struct[i][j] is None:\n",
    "                loc.append([i,j])\n",
    "    return loc"
   ]
  },
  {
   "cell_type": "code",
   "execution_count": 25,
   "id": "bb4281c3",
   "metadata": {},
   "outputs": [],
   "source": [
    "def sum_par(i):\n",
    "    return i[0]+i[1]"
   ]
  },
  {
   "cell_type": "code",
   "execution_count": 26,
   "id": "b516f7c9",
   "metadata": {},
   "outputs": [],
   "source": [
    "center_point = max_emp_neigh(grid_struct, lattice_size1, lattice_size2)\n",
    "center_point.sort(key = sum_par)"
   ]
  },
  {
   "cell_type": "code",
   "execution_count": 27,
   "id": "51e291bd",
   "metadata": {},
   "outputs": [
    {
     "data": {
      "text/plain": [
       "[[0, 1]]"
      ]
     },
     "execution_count": 27,
     "metadata": {},
     "output_type": "execute_result"
    }
   ],
   "source": [
    "center_point"
   ]
  },
  {
   "cell_type": "code",
   "execution_count": 28,
   "id": "fc1fc177",
   "metadata": {},
   "outputs": [],
   "source": [
    "count = 1\n",
    "prev=[None, None]\n",
    "for q_dat in sorted_pref_table:\n",
    "    if count==1:\n",
    "        grid_struct[center_point[int(len(center_point)/2)][0]][center_point[int(len(center_point)/2)][1]] = q_dat[0]\n",
    "        prev[0] = center_point[int(len(center_point)/2)][0]\n",
    "        prev[1] = center_point[int(len(center_point)/2)][1]\n",
    "        count = count+1\n",
    "    else:\n",
    "        loc = max_emp_neigh(grid_struct, lattice_size1, lattice_size2)\n",
    "        if len(loc) == 1:\n",
    "            grid_struct[loc[0][0]][loc[0][1]] = q_dat[0]\n",
    "            prev[0] = loc[0][0]\n",
    "            prev[1] = loc[0][1]\n",
    "        else:\n",
    "            i, j = prev\n",
    "            assigned = False\n",
    "            for a in [-1, 1, -2, 2]:\n",
    "                if 0<=j+a<=lattice_size2-1 and grid_struct[i][j+a] is None:\n",
    "                    grid_struct[i][j+a] = q_dat[0]\n",
    "                    assigned = True\n",
    "                    break\n",
    "                if 0<=i+a<=lattice_size1-1 and grid_struct[i+a][j] is None:\n",
    "                    grid_struct[i+a][j] = q_dat[0]\n",
    "                    assigned = True\n",
    "                    break\n",
    "            if not assigned:    \n",
    "                for a in range(0, lattice_size1):\n",
    "                    for b in range(0, lattice_size2):\n",
    "                        if 0<=i+a<=lattice_size1-1 and 0<=j+b<=lattice_size2-1 and grid_struct[i+a][j+b] is None:\n",
    "                            grid_struct[i+a][j+b] = q_dat[0]\n",
    "                            assigned = True\n",
    "                            break\n",
    "                        if 0<=i+a<=lattice_size1-1 and 0<=j-b<=lattice_size2-1 and grid_struct[i+a][j-b] is None:\n",
    "                            grid_struct[i+a][j-b] = q_dat[0]\n",
    "                            assigned = True\n",
    "                            break\n",
    "                        if 0<=i-a<=lattice_size1-1 and 0<=j+b<=lattice_size2-1 and grid_struct[i-a][j+b] is None:\n",
    "                            grid_struct[i-a][j+b] = q_dat[0]\n",
    "                            assigned = True\n",
    "                            break\n",
    "                        if 0<=i-a<=lattice_size1-1 and 0<=j-b<=lattice_size2-1 and grid_struct[i-a][j-b] is None:\n",
    "                            grid_struct[i-a][j-b] = q_dat[0]\n",
    "                            assigned = True\n",
    "                            break\n",
    "                    if (assigned):\n",
    "                        break"
   ]
  },
  {
   "cell_type": "code",
   "execution_count": 29,
   "id": "08ade0c4",
   "metadata": {
    "scrolled": true
   },
   "outputs": [
    {
     "data": {
      "text/plain": [
       "[[Qubit(QuantumRegister(5, 'q'), 4),\n",
       "  Qubit(QuantumRegister(5, 'q'), 0),\n",
       "  Qubit(QuantumRegister(5, 'q'), 3)],\n",
       " ['X', Qubit(QuantumRegister(5, 'q'), 1), 'X'],\n",
       " ['X', Qubit(QuantumRegister(5, 'q'), 2), 'X']]"
      ]
     },
     "execution_count": 29,
     "metadata": {},
     "output_type": "execute_result"
    }
   ],
   "source": [
    "grid_struct"
   ]
  },
  {
   "cell_type": "code",
   "execution_count": 30,
   "id": "68a526bb",
   "metadata": {},
   "outputs": [],
   "source": [
    "import copy\n",
    "intial_grid_struct = copy.deepcopy(grid_struct)"
   ]
  },
  {
   "cell_type": "code",
   "execution_count": 31,
   "id": "59a76a49",
   "metadata": {},
   "outputs": [],
   "source": [
    "dict = {}\n",
    "for i in range(lattice_size1):\n",
    "    for j in range(lattice_size2):\n",
    "        if grid_struct[i][j] is not None:\n",
    "            dict[grid_struct[i][j]] = [i, j]"
   ]
  },
  {
   "cell_type": "code",
   "execution_count": 32,
   "id": "f955e313",
   "metadata": {},
   "outputs": [
    {
     "data": {
      "text/plain": [
       "{Qubit(QuantumRegister(5, 'q'), 4): [0, 0],\n",
       " Qubit(QuantumRegister(5, 'q'), 0): [0, 1],\n",
       " Qubit(QuantumRegister(5, 'q'), 3): [0, 2],\n",
       " 'X': [2, 2],\n",
       " Qubit(QuantumRegister(5, 'q'), 1): [1, 1],\n",
       " Qubit(QuantumRegister(5, 'q'), 2): [2, 1]}"
      ]
     },
     "execution_count": 32,
     "metadata": {},
     "output_type": "execute_result"
    }
   ],
   "source": [
    "dict"
   ]
  },
  {
   "cell_type": "code",
   "execution_count": 33,
   "id": "b8313f85",
   "metadata": {},
   "outputs": [],
   "source": [
    "def print_gs(grid_struct):\n",
    "    for i in range(len(grid_struct)):\n",
    "        for j in range(len(grid_struct[0])):\n",
    "            if grid_struct[i][j] is None:\n",
    "                print(' ', end=' ')\n",
    "            elif grid_struct[i][j] == 'X':\n",
    "                print(grid_struct[i][j], end=' ')\n",
    "            else:\n",
    "                print(index[grid_struct[i][j]], end=' ')\n",
    "        print()"
   ]
  },
  {
   "cell_type": "code",
   "execution_count": 34,
   "id": "df897c38",
   "metadata": {},
   "outputs": [
    {
     "name": "stdout",
     "output_type": "stream",
     "text": [
      "4 0 3 \n",
      "X 1 X \n",
      "X 2 X \n",
      "\n",
      "no swap\n",
      "4 0 3 \n",
      "X 1 X \n",
      "X 2 X \n",
      "\n",
      "\n",
      "swap\n",
      "4 1 3 \n",
      "X 0 X \n",
      "X 2 X \n",
      "\n",
      "\n",
      "no swap\n",
      "4 1 3 \n",
      "X 0 X \n",
      "X 2 X \n",
      "\n",
      "\n",
      "no swap\n",
      "4 1 3 \n",
      "X 0 X \n",
      "X 2 X \n",
      "\n",
      "\n",
      "swap\n",
      "4 0 3 \n",
      "X 1 X \n",
      "X 2 X \n",
      "\n",
      "\n",
      "swap\n",
      "4 0 3 \n",
      "X 2 X \n",
      "X 1 X \n",
      "\n",
      "swap\n",
      "4 2 3 \n",
      "X 0 X \n",
      "X 1 X \n",
      "\n",
      "\n",
      "swap\n",
      "4 2 3 \n",
      "X 1 X \n",
      "X 0 X \n",
      "\n",
      "swap\n",
      "4 1 3 \n",
      "X 2 X \n",
      "X 0 X \n",
      "\n",
      "\n",
      "swap\n",
      "4 1 3 \n",
      "X 0 X \n",
      "X 2 X \n",
      "\n",
      "\n",
      "swap\n",
      "4 0 3 \n",
      "X 1 X \n",
      "X 2 X \n",
      "\n",
      "\n",
      "swap\n",
      "0 4 3 \n",
      "X 1 X \n",
      "X 2 X \n",
      "\n",
      "\n"
     ]
    }
   ],
   "source": [
    "print_gs(grid_struct)\n",
    "swap_count = 0\n",
    "print()\n",
    "for gate in qc.data:\n",
    "    if len(gate[1]) == 1:\n",
    "        print(\"no swap\")\n",
    "        print_gs(grid_struct)\n",
    "        print()\n",
    "#         print(\"Gate achieved: \",gate[0].name, index[gate[1][0]])\n",
    "        print()\n",
    "        continue\n",
    "    l1_x, l1_y = dict[gate[1][0]]\n",
    "    l2_x, l2_y = dict[gate[1][1]]\n",
    "    \n",
    "    if ((l1_x == l2_x) and (math.fabs(l1_y - l2_y) == 1)) or ((l1_y == l2_y) and (math.fabs(l1_x - l2_x) == 1)):\n",
    "        print(\"no swap\")\n",
    "        print_gs(grid_struct)\n",
    "        print()\n",
    "#         print(\"Gate achieved: \",gate[0].name, index[gate[1][0]], index[gate[1][1]])\n",
    "        print()\n",
    "    else:\n",
    "        dx = l1_x - l2_x\n",
    "        dy = l1_y - l2_y\n",
    "        dirchange = \"\"\n",
    "        while (math.fabs(dx) + math.fabs(dy) != 1):\n",
    "            if dx > 0 and grid_struct[l1_x - 1][l1_y] != 'X':\n",
    "                grid_struct[l1_x - 1][l1_y], grid_struct[l1_x][l1_y] = grid_struct[l1_x][l1_y], grid_struct[l1_x - 1][l1_y]\n",
    "                dict[grid_struct[l1_x - 1][l1_y]] = [l1_x - 1, l1_y]\n",
    "                dict[grid_struct[l1_x][l1_y]] = [l1_x, l1_y]\n",
    "            elif dx > 0 and grid_struct[l2_x + 1][l2_y] != 'X':\n",
    "                grid_struct[l2_x + 1][l2_y], grid_struct[l2_x][l2_y] = grid_struct[l2_x][l2_y], grid_struct[l2_x + 1][l2_y]\n",
    "                dict[grid_struct[l2_x + 1][l2_y]] = [l2_x + 1, l2_y]\n",
    "                dict[grid_struct[l2_x][l2_y]] = [l2_x, l2_y]\n",
    "            elif dx < 0 and grid_struct[l1_x + 1][l1_y] != 'X':\n",
    "                grid_struct[l1_x + 1][l1_y], grid_struct[l1_x][l1_y] = grid_struct[l1_x][l1_y], grid_struct[l1_x + 1][l1_y]\n",
    "                dict[grid_struct[l1_x + 1][l1_y]] = [l1_x + 1, l1_y]\n",
    "                dict[grid_struct[l1_x][l1_y]] = [l1_x, l1_y]\n",
    "            elif dx < 0 and grid_struct[l2_x - 1][l2_y] != 'X':\n",
    "                grid_struct[l2_x - 1][l2_y], grid_struct[l2_x][l2_y] = grid_struct[l2_x][l2_y], grid_struct[l2_x - 1][l2_y]\n",
    "                dict[grid_struct[l2_x - 1][l2_y]] = [l2_x - 1, l2_y]\n",
    "                dict[grid_struct[l2_x][l2_y]] = [l2_x, l2_y]\n",
    "            elif dy > 0 and grid_struct[l1_x][l1_y - 1] != 'X':\n",
    "                grid_struct[l1_x][l1_y - 1], grid_struct[l1_x][l1_y] = grid_struct[l1_x][l1_y], grid_struct[l1_x][l1_y - 1]\n",
    "                dict[grid_struct[l1_x][l1_y - 1]] = [l1_x, l1_y - 1]\n",
    "                dict[grid_struct[l1_x][l1_y]] = [l1_x, l1_y]\n",
    "            elif dy > 0 and grid_struct[l2_x][l2_y + 1] != 'X':\n",
    "                grid_struct[l2_x][l2_y + 1], grid_struct[l2_x][l2_y] = grid_struct[l2_x][l2_y], grid_struct[l2_x][l2_y + 1]\n",
    "                dict[grid_struct[l2_x][l2_y + 1]] = [l2_x, l2_y + 1]\n",
    "                dict[grid_struct[l2_x][l2_y]] = [l2_x, l2_y]\n",
    "            elif dy < 0 and grid_struct[l1_x][l1_y + 1] != 'X':\n",
    "                grid_struct[l1_x][l1_y + 1], grid_struct[l1_x][l1_y] = grid_struct[l1_x][l1_y], grid_struct[l1_x][l1_y + 1]\n",
    "                dict[grid_struct[l1_x][l1_y + 1]] = [l1_x, l1_y + 1]\n",
    "                dict[grid_struct[l1_x][l1_y]] = [l1_x, l1_y]\n",
    "            elif dy < 0 and grid_struct[l2_x][l2_y - 1] != 'X':\n",
    "                grid_struct[l2_x][l2_y - 1], grid_struct[l2_x][l2_y] = grid_struct[l2_x][l2_y], grid_struct[l2_x][l2_y - 1]\n",
    "                dict[grid_struct[l2_x][l2_y - 1]] = [l2_x, l2_y - 1]\n",
    "                dict[grid_struct[l2_x][l2_y]] = [l2_x, l2_y]\n",
    "            else:\n",
    "               # sleep(1)\n",
    "                if dx == 0 and 'X' in [grid_struct[l2_x][i] for i in range(l1_y, l2_y, -int(dy/math.fabs(dy)))]:\n",
    "                    # print(111)\n",
    "                    if dirchange!=\"-x\" and (l1_x+1 < lattice_size1 and grid_struct[l1_x+1][l1_y] != 'X' and grid_struct[l2_x+1][l2_y] !='X'):\n",
    "                        grid_struct[l1_x + 1][l1_y], grid_struct[l1_x][l1_y] = grid_struct[l1_x][l1_y], grid_struct[l1_x + 1][l1_y]\n",
    "                        dict[grid_struct[l1_x + 1][l1_y]] = [l1_x + 1, l1_y]\n",
    "                        dict[grid_struct[l1_x][l1_y]] = [l1_x, l1_y]\n",
    "                        swap_result_file.write(\"swap\\n\")\n",
    "                        print_gs(grid_struct, swap_result_file)\n",
    "                        grid_struct[l2_x + 1][l2_y], grid_struct[l2_x][l2_y] = grid_struct[l2_x][l2_y], grid_struct[l2_x + 1][l2_y]\n",
    "                        dict[grid_struct[l2_x + 1][l2_y]] = [l2_x + 1, l2_y]\n",
    "                        dict[grid_struct[l2_x][l2_y]] = [l2_x, l2_y]\n",
    "                        dirchange = \"+x\"\n",
    "                    elif dirchange!=\"+x\" and (l1_x-1 >= 0 and grid_struct[l1_x-1][l1_y] != 'X' and grid_struct[l2_x-1][l2_y] !='X'):\n",
    "                        grid_struct[l1_x - 1][l1_y], grid_struct[l1_x][l1_y] = grid_struct[l1_x][l1_y], grid_struct[l1_x - 1][l1_y]\n",
    "                        dict[grid_struct[l1_x - 1][l1_y]] = [l1_x - 1, l1_y]\n",
    "                        dict[grid_struct[l1_x][l1_y]] = [l1_x, l1_y]\n",
    "                        swap_result_file.write(\"swap\\n\")\n",
    "                        print_gs(grid_struct, swap_result_file)\n",
    "                        grid_struct[l2_x - 1][l2_y], grid_struct[l2_x][l2_y] = grid_struct[l2_x][l2_y], grid_struct[l2_x - 1][l2_y]\n",
    "                        dict[grid_struct[l2_x - 1][l2_y]] = [l2_x - 1, l2_y]\n",
    "                        dict[grid_struct[l2_x][l2_y]] = [l2_x, l2_y]\n",
    "                        dirchange = \"+x\"\n",
    "                elif dy == 0 and 'X' in [grid_struct[i][l2_y] for i in range(l1_x, l2_x, -int(dx/math.fabs(dx)))]:\n",
    "                    # print(222)\n",
    "                    if dirchange!=\"-y\" and (l1_y+1 < lattice_size2 and grid_struct[l1_x][l1_y+1] != 'X' and grid_struct[l2_x][l2_y+1] !='X'):\n",
    "                        # print(22211)\n",
    "                        grid_struct[l1_x][l1_y + 1], grid_struct[l1_x][l1_y] = grid_struct[l1_x][l1_y], grid_struct[l1_x][l1_y + 1]\n",
    "                        dict[grid_struct[l1_x][l1_y + 1]] = [l1_x, l1_y + 1]\n",
    "                        dict[grid_struct[l1_x][l1_y]] = [l1_x, l1_y]\n",
    "                        swap_result_file.write(\"swap\\n\")\n",
    "                        print_gs(grid_struct, swap_result_file)\n",
    "                        grid_struct[l2_x][l2_y + 1], grid_struct[l2_x][l2_y] = grid_struct[l2_x][l2_y], grid_struct[l2_x][l2_y + 1]\n",
    "                        dict[grid_struct[l2_x][l2_y + 1]] = [l2_x, l2_y + 1]\n",
    "                        dict[grid_struct[l2_x][l2_y]] = [l2_x, l2_y]\n",
    "                        dirchange = \"+y\"\n",
    "                    elif dirchange!=\"+y\" and (l1_y-1 >= 0 and grid_struct[l1_x][l1_y-1] != 'X' and grid_struct[l2_x][l2_y-1] !='X'):\n",
    "                        # print(22212)\n",
    "                        grid_struct[l1_x][l1_y - 1], grid_struct[l1_x][l1_y] = grid_struct[l1_x][l1_y], grid_struct[l1_x][l1_y - 1]\n",
    "                        dict[grid_struct[l1_x][l1_y - 1]] = [l1_x, l1_y - 1]\n",
    "                        dict[grid_struct[l1_x][l1_y]] = [l1_x, l1_y]\n",
    "                        swap_result_file.write(\"swap\\n\")\n",
    "                        print_gs(grid_struct, swap_result_file)\n",
    "                        grid_struct[l2_x][l2_y - 1], grid_struct[l2_x][l2_y] = grid_struct[l2_x][l2_y], grid_struct[l2_x][l2_y - 1]\n",
    "                        dict[grid_struct[l2_x][l2_y - 1]] = [l2_x, l2_y - 1]\n",
    "                        dict[grid_struct[l2_x][l2_y]] = [l2_x, l2_y]       \n",
    "                        dirchange = \"-y\"\n",
    "            l1_x, l1_y = dict[gate[1][0]]\n",
    "            l2_x, l2_y = dict[gate[1][1]]\n",
    "            dx = l1_x - l2_x\n",
    "            dy = l1_y - l2_y\n",
    "#             print(dx)\n",
    "#             print(dy)\n",
    "#             print(\"reqd\", gate[0].name, index[gate[1][0]], index[gate[1][1]])\n",
    "            print(\"swap\")\n",
    "            swap_count += 1\n",
    "            print_gs(grid_struct)\n",
    "            print()\n",
    "#             time.sleep(1)\n",
    "#         print(\"Gate achieved: \",gate[0].name, index[gate[1][0]], index[gate[1][1]])\n",
    "        print()"
   ]
  },
  {
   "cell_type": "code",
   "execution_count": 35,
   "id": "3e26ece0",
   "metadata": {},
   "outputs": [
    {
     "name": "stdout",
     "output_type": "stream",
     "text": [
      "9\n"
     ]
    }
   ],
   "source": [
    "print(swap_count)"
   ]
  },
  {
   "cell_type": "code",
   "execution_count": 36,
   "id": "033693ce",
   "metadata": {},
   "outputs": [],
   "source": [
    "import tabulate"
   ]
  },
  {
   "cell_type": "code",
   "execution_count": 37,
   "id": "1316541e",
   "metadata": {},
   "outputs": [
    {
     "name": "stdout",
     "output_type": "stream",
     "text": [
      "╒═══════════════════════════════════╤════════════════════╤════════════════════╤═════════════════╤═════════════════╕\n",
      "│ Qubits                            │ Time Instants      │   Total Interation │ Time Instants   │   Total Costing │\n",
      "╞═══════════════════════════════════╪════════════════════╪════════════════════╪═════════════════╪═════════════════╡\n",
      "│ Qubit(QuantumRegister(5, 'q'), 0) │ [1, 3, 4, 5, 8, 9] │                 30 │ [1, 3, 5, 9]    │              18 │\n",
      "├───────────────────────────────────┼────────────────────┼────────────────────┼─────────────────┼─────────────────┤\n",
      "│ Qubit(QuantumRegister(5, 'q'), 1) │ [2, 4, 7, 8]       │                 21 │ [2, 7]          │               9 │\n",
      "├───────────────────────────────────┼────────────────────┼────────────────────┼─────────────────┼─────────────────┤\n",
      "│ Qubit(QuantumRegister(5, 'q'), 2) │ [3, 6]             │                  9 │ [3]             │               3 │\n",
      "├───────────────────────────────────┼────────────────────┼────────────────────┼─────────────────┼─────────────────┤\n",
      "│ Qubit(QuantumRegister(5, 'q'), 3) │ [1, 5, 6, 7, 10]   │                 29 │ [1, 5, 7]       │              13 │\n",
      "├───────────────────────────────────┼────────────────────┼────────────────────┼─────────────────┼─────────────────┤\n",
      "│ Qubit(QuantumRegister(5, 'q'), 4) │ [2, 9, 10]         │                 21 │ [2, 9]          │              11 │\n",
      "╘═══════════════════════════════════╧════════════════════╧════════════════════╧═════════════════╧═════════════════╛\n"
     ]
    }
   ],
   "source": [
    "print(tabulate.tabulate([[\"Qubits\", \"Time Instants\", \"Total Interation\", \"Time Instants\", \"Total Costing\"]]+costing,headers='firstrow',tablefmt='fancy_grid'))"
   ]
  },
  {
   "cell_type": "code",
   "execution_count": 38,
   "id": "a78dcc5d",
   "metadata": {},
   "outputs": [
    {
     "name": "stdout",
     "output_type": "stream",
     "text": [
      "╒═══════════════════════════════════╤════════════════════╤═════════════════╤════════════════════╕\n",
      "│ Qubits                            │   Total Interation │   Total Costing │   Preference Index │\n",
      "╞═══════════════════════════════════╪════════════════════╪═════════════════╪════════════════════╡\n",
      "│ Qubit(QuantumRegister(5, 'q'), 0) │                 30 │              18 │           0.6      │\n",
      "├───────────────────────────────────┼────────────────────┼─────────────────┼────────────────────┤\n",
      "│ Qubit(QuantumRegister(5, 'q'), 4) │                 21 │              11 │           0.52381  │\n",
      "├───────────────────────────────────┼────────────────────┼─────────────────┼────────────────────┤\n",
      "│ Qubit(QuantumRegister(5, 'q'), 3) │                 29 │              13 │           0.448276 │\n",
      "├───────────────────────────────────┼────────────────────┼─────────────────┼────────────────────┤\n",
      "│ Qubit(QuantumRegister(5, 'q'), 1) │                 21 │               9 │           0.428571 │\n",
      "├───────────────────────────────────┼────────────────────┼─────────────────┼────────────────────┤\n",
      "│ Qubit(QuantumRegister(5, 'q'), 2) │                  9 │               3 │           0.333333 │\n",
      "╘═══════════════════════════════════╧════════════════════╧═════════════════╧════════════════════╛\n"
     ]
    }
   ],
   "source": [
    "print(tabulate.tabulate([[\"Qubits\", \"Total Interation\", \"Total Costing\", \"Preference Index\"]]+pref_table,headers='firstrow',tablefmt='fancy_grid'))"
   ]
  },
  {
   "cell_type": "code",
   "execution_count": 39,
   "id": "27d3e60f",
   "metadata": {},
   "outputs": [
    {
     "name": "stdout",
     "output_type": "stream",
     "text": [
      "╒═══════════════════════════════════╤════════════════════╤═════════════════╤════════════════════╕\n",
      "│ Qubits                            │   Total Interation │   Total Costing │   Preference Index │\n",
      "╞═══════════════════════════════════╪════════════════════╪═════════════════╪════════════════════╡\n",
      "│ Qubit(QuantumRegister(5, 'q'), 0) │                 30 │              18 │           0.6      │\n",
      "├───────────────────────────────────┼────────────────────┼─────────────────┼────────────────────┤\n",
      "│ Qubit(QuantumRegister(5, 'q'), 4) │                 21 │              11 │           0.52381  │\n",
      "├───────────────────────────────────┼────────────────────┼─────────────────┼────────────────────┤\n",
      "│ Qubit(QuantumRegister(5, 'q'), 3) │                 29 │              13 │           0.448276 │\n",
      "├───────────────────────────────────┼────────────────────┼─────────────────┼────────────────────┤\n",
      "│ Qubit(QuantumRegister(5, 'q'), 1) │                 21 │               9 │           0.428571 │\n",
      "├───────────────────────────────────┼────────────────────┼─────────────────┼────────────────────┤\n",
      "│ Qubit(QuantumRegister(5, 'q'), 2) │                  9 │               3 │           0.333333 │\n",
      "╘═══════════════════════════════════╧════════════════════╧═════════════════╧════════════════════╛\n"
     ]
    }
   ],
   "source": [
    "print(tabulate.tabulate([[\"Qubits\", \"Total Interation\", \"Total Costing\", \"Preference Index\"]]+sorted_pref_table,headers='firstrow',tablefmt='fancy_grid'))"
   ]
  },
  {
   "cell_type": "code",
   "execution_count": 40,
   "id": "b6b63d47",
   "metadata": {},
   "outputs": [
    {
     "name": "stdout",
     "output_type": "stream",
     "text": [
      "╒═══════════════════════════════════╤═══════════════════════════════════╤═══════════════════════════════════╕\n",
      "│ Qubit(QuantumRegister(5, 'q'), 4) │ Qubit(QuantumRegister(5, 'q'), 0) │ Qubit(QuantumRegister(5, 'q'), 3) │\n",
      "├───────────────────────────────────┼───────────────────────────────────┼───────────────────────────────────┤\n",
      "│ X                                 │ Qubit(QuantumRegister(5, 'q'), 1) │ X                                 │\n",
      "├───────────────────────────────────┼───────────────────────────────────┼───────────────────────────────────┤\n",
      "│ X                                 │ Qubit(QuantumRegister(5, 'q'), 2) │ X                                 │\n",
      "╘═══════════════════════════════════╧═══════════════════════════════════╧═══════════════════════════════════╛\n"
     ]
    }
   ],
   "source": [
    "print(tabulate.tabulate(intial_grid_struct,tablefmt='fancy_grid'))"
   ]
  },
  {
   "cell_type": "code",
   "execution_count": 51,
   "id": "6f423e5d",
   "metadata": {},
   "outputs": [],
   "source": [
    "samplegs = [[None, None, None, None, None, None, None, None, None, None, None, None, None, None, 'X' ],\n",
    "                     [None, 'X' , 'X' , 'X' , None, 'X' , 'X' , 'X' , None, 'X' , 'X' , 'X' , None, 'X' , 'X' ],\n",
    "                     [None, None, None, None, None, None, None, None, None, None, None, None, None, None, None],\n",
    "                     ['X' , 'X' , None, 'X' , 'X' , 'X' , None, 'X' , 'X' , 'X' , None, 'X' , 'X' , 'X' , None],\n",
    "                     [None, None, None, None, None, None, None, None, None, None, None, None, None, None, None],\n",
    "                     [None, 'X' , 'X' , 'X' , None, 'X' , 'X' , 'X' , None, 'X' , 'X' , 'X' , None, 'X' , 'X' ],\n",
    "                     [None, None, None, None, None, None, None, None, None, None, None, None, None, None, None],\n",
    "                     ['X' , 'X' , None, 'X' , 'X' , 'X' , None, 'X' , 'X' , 'X' , None, 'X' , 'X' , 'X' , None],\n",
    "                     [None, None, None, None, None, None, None, None, None, None, None, None, None, None, None],\n",
    "                     [None, 'X' , 'X' , 'X' , None, 'X' , 'X' , 'X' , None, 'X' , 'X' , 'X' , None, 'X' , 'X' ],\n",
    "                     [None, None, None, None, None, None, None, None, None, None, None, None, None, None, None],\n",
    "                     ['X' , 'X' , None, 'X' , 'X' , 'X' , None, 'X' , 'X' , 'X' , None, 'X' , 'X' , 'X' , None],\n",
    "                     ['X' , None, None, None, None, None, None, None, None, None, None, None, None, None, None]]"
   ]
  },
  {
   "cell_type": "code",
   "execution_count": 52,
   "id": "b0d7f3e5",
   "metadata": {},
   "outputs": [],
   "source": [
    "for i in range(len(samplegs)):\n",
    "    for j in range(len(samplegs)):\n",
    "        if samplegs[i][j] != 'X':\n",
    "            samplegs[i][j] = \" \""
   ]
  },
  {
   "cell_type": "code",
   "execution_count": 53,
   "id": "2b98ca32",
   "metadata": {},
   "outputs": [
    {
     "name": "stdout",
     "output_type": "stream",
     "text": [
      "╒═══╤═══╤═══╤═══╤═══╤═══╤═══╤═══╤═══╤═══╤═══╤═══╤═══╤═══╤═══╕\n",
      "│   │   │   │   │   │   │   │   │   │   │   │   │   │   │ X │\n",
      "├───┼───┼───┼───┼───┼───┼───┼───┼───┼───┼───┼───┼───┼───┼───┤\n",
      "│   │ X │ X │ X │   │ X │ X │ X │   │ X │ X │ X │   │ X │ X │\n",
      "├───┼───┼───┼───┼───┼───┼───┼───┼───┼───┼───┼───┼───┼───┼───┤\n",
      "│   │   │   │   │   │   │   │   │   │   │   │   │   │   │   │\n",
      "├───┼───┼───┼───┼───┼───┼───┼───┼───┼───┼───┼───┼───┼───┼───┤\n",
      "│ X │ X │   │ X │ X │ X │   │ X │ X │ X │   │ X │ X │ X │   │\n",
      "├───┼───┼───┼───┼───┼───┼───┼───┼───┼───┼───┼───┼───┼───┼───┤\n",
      "│   │   │   │   │   │   │   │   │   │   │   │   │   │   │   │\n",
      "├───┼───┼───┼───┼───┼───┼───┼───┼───┼───┼───┼───┼───┼───┼───┤\n",
      "│   │ X │ X │ X │   │ X │ X │ X │   │ X │ X │ X │   │ X │ X │\n",
      "├───┼───┼───┼───┼───┼───┼───┼───┼───┼───┼───┼───┼───┼───┼───┤\n",
      "│   │   │   │   │   │   │   │   │   │   │   │   │   │   │   │\n",
      "├───┼───┼───┼───┼───┼───┼───┼───┼───┼───┼───┼───┼───┼───┼───┤\n",
      "│ X │ X │   │ X │ X │ X │   │ X │ X │ X │   │ X │ X │ X │   │\n",
      "├───┼───┼───┼───┼───┼───┼───┼───┼───┼───┼───┼───┼───┼───┼───┤\n",
      "│   │   │   │   │   │   │   │   │   │   │   │   │   │   │   │\n",
      "├───┼───┼───┼───┼───┼───┼───┼───┼───┼───┼───┼───┼───┼───┼───┤\n",
      "│   │ X │ X │ X │   │ X │ X │ X │   │ X │ X │ X │   │ X │ X │\n",
      "├───┼───┼───┼───┼───┼───┼───┼───┼───┼───┼───┼───┼───┼───┼───┤\n",
      "│   │   │   │   │   │   │   │   │   │   │   │   │   │   │   │\n",
      "├───┼───┼───┼───┼───┼───┼───┼───┼───┼───┼───┼───┼───┼───┼───┤\n",
      "│ X │ X │   │ X │ X │ X │   │ X │ X │ X │   │ X │ X │ X │   │\n",
      "├───┼───┼───┼───┼───┼───┼───┼───┼───┼───┼───┼───┼───┼───┼───┤\n",
      "│ X │   │   │   │   │   │   │   │   │   │   │   │   │   │   │\n",
      "╘═══╧═══╧═══╧═══╧═══╧═══╧═══╧═══╧═══╧═══╧═══╧═══╧═══╧═══╧═══╛\n"
     ]
    }
   ],
   "source": [
    "print(tabulate.tabulate(samplegs,tablefmt='fancy_grid'))"
   ]
  },
  {
   "cell_type": "code",
   "execution_count": null,
   "id": "b81c2188",
   "metadata": {},
   "outputs": [],
   "source": []
  }
 ],
 "metadata": {
  "kernelspec": {
   "display_name": "Python 3 (ipykernel)",
   "language": "python",
   "name": "python3"
  },
  "language_info": {
   "codemirror_mode": {
    "name": "ipython",
    "version": 3
   },
   "file_extension": ".py",
   "mimetype": "text/x-python",
   "name": "python",
   "nbconvert_exporter": "python",
   "pygments_lexer": "ipython3",
   "version": "3.9.13"
  }
 },
 "nbformat": 4,
 "nbformat_minor": 5
}
